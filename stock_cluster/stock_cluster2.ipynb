{
 "cells": [
  {
   "cell_type": "code",
   "execution_count": 1,
   "id": "71822f69",
   "metadata": {},
   "outputs": [],
   "source": [
    "import pandas as pd\n",
    "import nasdaqdatalink\n",
    "nasdaqdatalink.ApiConfig.api_key ='ABH2M7eCbJJXy7YS_Cj7'"
   ]
  },
  {
   "cell_type": "code",
   "execution_count": 2,
   "id": "45d861ce",
   "metadata": {},
   "outputs": [],
   "source": [
    "var = pd.read_csv('Variables.csv')\n",
    "var.set_index('Date', inplace=True)\n",
    "ticker = pd.read_csv('ticker.csv')\n",
    "tick_list = ticker.columns.tolist()\n",
    "start = \"2010-01-01\"\n",
    "end = \"2017-01-01\""
   ]
  },
  {
   "cell_type": "code",
   "execution_count": 7,
   "id": "1fcdfb71",
   "metadata": {},
   "outputs": [],
   "source": [
    "df1 = nasdaqdatalink.get_table('WIKI/PRICES', date = { 'gte': start, 'lte': end },\n",
    "                              paginate=True,qopts={\"columns\":[\"adj_close\",\"date\",\"ticker\"]},\n",
    "                              ticker=tick_list[:251])\n",
    "\n",
    "df2 = nasdaqdatalink.get_table('WIKI/PRICES', date = { 'gte': start, 'lte': end },\n",
    "                              paginate=True,qopts={\"columns\":[\"adj_close\",\"date\",\"ticker\"]},\n",
    "                              ticker=tick_list[251:])\n",
    "# df upside down\n",
    "df1 = df1.iloc[::-1]\n",
    "df1.reset_index(drop=True, inplace=True)\n",
    "df2 = df2.iloc[::-1]\n",
    "df2.reset_index(drop=True, inplace=True)\n",
    "\n",
    "df = pd.concat([df1,df2])\n",
    "# pivot table is like spreadsheet\n",
    "# specify adj_close as values to avoid multi index\n",
    "df = df.pivot_table(index='date',columns='ticker',values='adj_close')\n",
    "df = df.pct_change()"
   ]
  },
  {
   "cell_type": "code",
   "execution_count": null,
   "id": "82f5359d",
   "metadata": {},
   "outputs": [],
   "source": [
    "# extract/apply the smallest timeframe in both files before merging\n",
    "var.index = pd.to_datetime(var.index)\n",
    "var = var[var.index.isin(df.index)]\n",
    "df = df[df.index.isin(var.index)]"
   ]
  },
  {
   "cell_type": "code",
   "execution_count": 26,
   "id": "125b4328",
   "metadata": {},
   "outputs": [],
   "source": [
    "mega = pd.concat([df, var], axis=1)\n",
    "# some ticker from wiki doesn't have sufficient data price from nasdaq -> drop\n",
    "mega = mega.dropna(axis=1)\n",
    "mega.to_csv(\"StockData.csv\", encoding=\"UTF-8\")"
   ]
  },
  {
   "cell_type": "code",
   "execution_count": null,
   "id": "882ff810",
   "metadata": {},
   "outputs": [],
   "source": []
  }
 ],
 "metadata": {
  "kernelspec": {
   "display_name": "Python 3 (ipykernel)",
   "language": "python",
   "name": "python3"
  },
  "language_info": {
   "codemirror_mode": {
    "name": "ipython",
    "version": 3
   },
   "file_extension": ".py",
   "mimetype": "text/x-python",
   "name": "python",
   "nbconvert_exporter": "python",
   "pygments_lexer": "ipython3",
   "version": "3.9.6"
  }
 },
 "nbformat": 4,
 "nbformat_minor": 5
}
