{
 "cells": [
  {
   "cell_type": "code",
   "execution_count": 1,
   "id": "530b86c4",
   "metadata": {},
   "outputs": [],
   "source": [
    "import pandas as pd\n",
    "import sys\n",
    "import statsmodels.api as sm\n",
    "import datetime\n",
    "import numpy as np"
   ]
  },
  {
   "cell_type": "code",
   "execution_count": 2,
   "id": "a10c2c4c",
   "metadata": {},
   "outputs": [],
   "source": [
    "df = pd.read_csv('StockData.csv',index_col=0)\n",
    "df.rename(columns={'Adj Close': 'Index'}, inplace=True)\n",
    "index_oil_gold_gas = df.iloc[:,-4:]"
   ]
  },
  {
   "cell_type": "code",
   "execution_count": 3,
   "id": "c72fd3eb",
   "metadata": {},
   "outputs": [],
   "source": [
    "# beta in regression is what a 1-unit increase in the specific variable does to the dependent variable\n",
    "# significance: .x means x% this was a random event, 0% means no random (causation)\n",
    "# when we get betas they assume we were holding everything else constant\n",
    "\n",
    "# X = sm.add_constant(index_oil_gold_gas)\n",
    "# model = sm.OLS(y,X).fit()\n",
    "# model.summary()"
   ]
  },
  {
   "cell_type": "code",
   "execution_count": 4,
   "id": "67e6bff3",
   "metadata": {},
   "outputs": [],
   "source": [
    "# create a function that take stock name as para, return a dataframe with significant betas\n",
    "def regression(stock):\n",
    "    y = df[stock]\n",
    "    X = sm.add_constant(index_oil_gold_gas)\n",
    "    model = sm.OLS(y,X).fit()\n",
    "    # only display betas with p-values under 5%\n",
    "    sig_betas = model.pvalues < .05\n",
    "    stock_betas = model.params[sig_betas].to_frame()\n",
    "    stock_betas.rename(columns={0:stock},inplace=True)\n",
    "    return stock_betas"
   ]
  },
  {
   "cell_type": "code",
   "execution_count": 15,
   "id": "8155d858",
   "metadata": {},
   "outputs": [],
   "source": [
    "mega = pd.DataFrame()\n",
    "for stock in df.columns[:-4]:\n",
    "    frame = regression(stock)\n",
    "    mega = pd.concat([mega, frame],axis=1)\n",
    "mega = mega.reindex(['const','Index','Oil','Gold','NaturalGas'])\n",
    "mega.to_csv('RegressionMatrix1.csv')"
   ]
  }
 ],
 "metadata": {
  "kernelspec": {
   "display_name": "Python 3 (ipykernel)",
   "language": "python",
   "name": "python3"
  },
  "language_info": {
   "codemirror_mode": {
    "name": "ipython",
    "version": 3
   },
   "file_extension": ".py",
   "mimetype": "text/x-python",
   "name": "python",
   "nbconvert_exporter": "python",
   "pygments_lexer": "ipython3",
   "version": "3.9.6"
  }
 },
 "nbformat": 4,
 "nbformat_minor": 5
}
