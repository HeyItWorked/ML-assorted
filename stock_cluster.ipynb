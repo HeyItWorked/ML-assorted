{
 "cells": [
  {
   "cell_type": "code",
   "execution_count": 1,
   "id": "b4564b92",
   "metadata": {},
   "outputs": [],
   "source": [
    "import datetime\n",
    "import pandas_datareader.data as web\n",
    "import pandas as pd\n",
    "import nasdaqdatalink\n",
    "import requests\n",
    "import csv\n",
    "from lxml import html\n",
    "nasdaqdatalink.ApiConfig.api_key ='ABH2M7eCbJJXy7YS_Cj7'"
   ]
  },
  {
   "cell_type": "code",
   "execution_count": 2,
   "id": "e645b89f",
   "metadata": {},
   "outputs": [],
   "source": [
    "# args year/month/day\n",
    "startDate = datetime.datetime(2010,1,1)\n",
    "endDate = datetime.datetime(2017,5,1)\n",
    "\n",
    "index = web.DataReader('SPY', 'yahoo', startDate, endDate)\n",
    "oil = nasdaqdatalink.get('FRED/DCOILWTICO', start_date = startDate, end_date = endDate)\n",
    "naturalGas = nasdaqdatalink.get('FRED/DHHNGSP', start_date = startDate, end_date = endDate)\n",
    "gold = nasdaqdatalink.get('LBMA/GOLD', start_date = startDate, end_date = endDate)\n",
    "\n",
    "index = index['Adj Close'].pct_change()\n",
    "oil = oil.pct_change()\n",
    "gold = gold['USD (AM)'].pct_change()\n",
    "naturalGas = naturalGas.pct_change()"
   ]
  },
  {
   "cell_type": "code",
   "execution_count": 3,
   "id": "ab2ec1d5",
   "metadata": {},
   "outputs": [],
   "source": [
    "naturalGas.rename(columns={'Value':'NaturalGas'},inplace=True)"
   ]
  },
  {
   "cell_type": "code",
   "execution_count": 4,
   "id": "09ed823d",
   "metadata": {},
   "outputs": [],
   "source": [
    "df = pd.concat([index, oil, gold,naturalGas], axis = 1)\n",
    "df.dropna(inplace=True)\n",
    "df.rename(columns={'Value': 'Oil','USD (AM)':'Gold'}, inplace=True)\n",
    "df.to_csv(\"Variables.csv\")"
   ]
  },
  {
   "cell_type": "code",
   "execution_count": 5,
   "id": "678e1393",
   "metadata": {},
   "outputs": [],
   "source": [
    "# download page\n",
    "page = requests.get('https://en.wikipedia.org/wiki/List_of_S%26P_500_companies')\n",
    "# tree now contains the whole HTML file in a nice tree structure which we can go over two different ways: XPath and CSSSelect\n",
    "tree = html.fromstring(page.content)\n",
    "# print(page.content)"
   ]
  },
  {
   "cell_type": "code",
   "execution_count": 6,
   "id": "80a3bf9f",
   "metadata": {},
   "outputs": [],
   "source": [
    "# xpath query\n",
    "# inspect component then Copy Xpath\n",
    "body = tree.xpath('/html/body/div[3]/div[3]/div[5]/div[1]/table[1]/tbody')[0]\n",
    "rows = body.findall('tr')\n",
    "ticker = []\n",
    "# We get rid of the first row because it is the header by indexing the array starting at 1\n",
    "for x in rows[1:]:\n",
    "    td_list = x.find(\"td\")\n",
    "    # text_content() returns a string of the text in the element\n",
    "    ticker.append(td_list.text_content().strip())"
   ]
  },
  {
   "cell_type": "code",
   "execution_count": 7,
   "id": "7b5ef04a",
   "metadata": {},
   "outputs": [],
   "source": [
    "with open('ticker.csv', 'w') as f:\n",
    "    write = csv.writer(f)\n",
    "    write.writerow(ticker)"
   ]
  },
  {
   "cell_type": "code",
   "execution_count": 8,
   "id": "4c41bdaf",
   "metadata": {},
   "outputs": [],
   "source": [
    "body = tree.xpath('/html/body/div[3]/div[3]/div[5]/div[1]/table[1]/tbody')[0]\n",
    "rows = body.findall('tr')\n",
    "rows = rows[1:]"
   ]
  },
  {
   "cell_type": "code",
   "execution_count": 9,
   "id": "e1f53b69",
   "metadata": {},
   "outputs": [],
   "source": [
    "df = pd.DataFrame()\n",
    "for row in rows:\n",
    "    placeholder = row.findall('td')\n",
    "    content = [x.text_content().strip() for x in placeholder]\n",
    "    df = pd.concat([df,pd.Series(content)],axis=1,ignore_index=True)\n",
    "\n",
    "df = df.transpose()\n",
    "\n",
    "df.columns = [\"Ticker\",\"Security\",\"SEC Filings\",\"GICS Sector\",\"GICS Sub Industry\",\"Location\",\"Date Added\",\"CIK\",\"Founded\"]    \n",
    "\n",
    "df.to_csv(\"SP500.csv\",index=False)"
   ]
  }
 ],
 "metadata": {
  "kernelspec": {
   "display_name": "Python 3 (ipykernel)",
   "language": "python",
   "name": "python3"
  },
  "language_info": {
   "codemirror_mode": {
    "name": "ipython",
    "version": 3
   },
   "file_extension": ".py",
   "mimetype": "text/x-python",
   "name": "python",
   "nbconvert_exporter": "python",
   "pygments_lexer": "ipython3",
   "version": "3.9.6"
  }
 },
 "nbformat": 4,
 "nbformat_minor": 5
}
