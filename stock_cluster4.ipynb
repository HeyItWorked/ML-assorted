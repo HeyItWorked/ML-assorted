{
 "cells": [
  {
   "cell_type": "code",
   "execution_count": 1,
   "id": "a74345a3",
   "metadata": {},
   "outputs": [],
   "source": [
    "import pandas as pd\n",
    "from sklearn.cluster import KMeans"
   ]
  },
  {
   "cell_type": "code",
   "execution_count": 2,
   "id": "31efd5ab",
   "metadata": {},
   "outputs": [],
   "source": [
    "df = pd.read_csv('RegressionMatrix1.csv',index_col=0)\n",
    "df.fillna(value=0,inplace=True)\n",
    "df = df.transpose()"
   ]
  },
  {
   "cell_type": "code",
   "execution_count": 3,
   "id": "879c069e",
   "metadata": {},
   "outputs": [],
   "source": [
    "# z-score says how many standard deviations a value is away from the mean\n",
    "# get the value minus the mean, and divide that by standard deviation\n",
    "# ddof = 0 for std means population std, sample std is N-1 so ddof = 1\n",
    "for x in df.columns:\n",
    "    df[x] = (df[x] - df[x].mean())/df[x].std(ddof=0)"
   ]
  },
  {
   "cell_type": "code",
   "execution_count": 4,
   "id": "15b2e643",
   "metadata": {},
   "outputs": [],
   "source": [
    "model = KMeans(n_clusters=8)\n",
    "model.fit(df)\n",
    "\n",
    "df['Group'] = model.labels_"
   ]
  },
  {
   "cell_type": "code",
   "execution_count": null,
   "id": "59b44622",
   "metadata": {},
   "outputs": [],
   "source": [
    "sp500 = pd.read_csv('SP500.csv')\n",
    "sp500.set_index('Ticker',inplace=True)\n",
    "\n",
    "# inner means intersection of rows between two dataframes\n",
    "mega = pd.concat([sp500,df],axis=1,join='inner')"
   ]
  },
  {
   "cell_type": "code",
   "execution_count": 49,
   "id": "dcfc05f9",
   "metadata": {
    "collapsed": true
   },
   "outputs": [
    {
     "name": "stdout",
     "output_type": "stream",
     "text": [
      "Group  GICS Sector           \n",
      "0      Real Estate                5\n",
      "       Industrials                4\n",
      "       Consumer Discretionary     3\n",
      "       Health Care                2\n",
      "       Information Technology     2\n",
      "       Materials                  2\n",
      "       Consumer Staples           1\n",
      "1      Health Care               34\n",
      "       Utilities                 23\n",
      "       Consumer Staples          21\n",
      "       Consumer Discretionary    16\n",
      "       Financials                16\n",
      "       Information Technology    16\n",
      "       Industrials               13\n",
      "       Real Estate                9\n",
      "       Communication Services     6\n",
      "       Materials                  4\n",
      "       Energy                     1\n",
      "2      Consumer Discretionary     8\n",
      "       Consumer Staples           6\n",
      "       Industrials                6\n",
      "       Information Technology     5\n",
      "       Financials                 2\n",
      "       Health Care                2\n",
      "       Utilities                  2\n",
      "       Communication Services     1\n",
      "       Real Estate                1\n",
      "3      Industrials               28\n",
      "       Information Technology    27\n",
      "       Financials                17\n",
      "       Consumer Discretionary    16\n",
      "       Health Care               15\n",
      "       Materials                 13\n",
      "       Communication Services     8\n",
      "       Real Estate                5\n",
      "       Energy                     1\n",
      "       Utilities                  1\n",
      "4      Energy                    13\n",
      "       Materials                  1\n",
      "5      Real Estate                6\n",
      "       Information Technology     2\n",
      "       Utilities                  2\n",
      "       Consumer Staples           1\n",
      "       Energy                     1\n",
      "6      Industrials                7\n",
      "       Consumer Discretionary     3\n",
      "       Information Technology     3\n",
      "       Materials                  2\n",
      "       Communication Services     1\n",
      "       Health Care                1\n",
      "7      Financials                24\n",
      "       Information Technology     2\n",
      "       Health Care                1\n"
     ]
    }
   ],
   "source": [
    "# sector count by each groups\n",
    "# print(mega.groupby('Group')['GICS Sector'].value_counts().to_string())"
   ]
  },
  {
   "cell_type": "code",
   "execution_count": 52,
   "id": "7c8f0f7e",
   "metadata": {
    "collapsed": true
   },
   "outputs": [
    {
     "name": "stdout",
     "output_type": "stream",
     "text": [
      "Industrials\n",
      "3    28\n",
      "1    13\n",
      "6     7\n",
      "2     6\n",
      "0     4\n",
      "Name: Group, dtype: int64\n",
      "Health Care\n",
      "1    34\n",
      "3    15\n",
      "0     2\n",
      "2     2\n",
      "7     1\n",
      "6     1\n",
      "Name: Group, dtype: int64\n",
      "Information Technology\n",
      "3    27\n",
      "1    16\n",
      "2     5\n",
      "6     3\n",
      "0     2\n",
      "5     2\n",
      "7     2\n",
      "Name: Group, dtype: int64\n",
      "Communication Services\n",
      "3    8\n",
      "1    6\n",
      "6    1\n",
      "2    1\n",
      "Name: Group, dtype: int64\n",
      "Consumer Staples\n",
      "1    21\n",
      "2     6\n",
      "5     1\n",
      "0     1\n",
      "Name: Group, dtype: int64\n",
      "Consumer Discretionary\n",
      "1    16\n",
      "3    16\n",
      "2     8\n",
      "6     3\n",
      "0     3\n",
      "Name: Group, dtype: int64\n",
      "Utilities\n",
      "1    23\n",
      "2     2\n",
      "5     2\n",
      "3     1\n",
      "Name: Group, dtype: int64\n",
      "Financials\n",
      "7    24\n",
      "3    17\n",
      "1    16\n",
      "2     2\n",
      "Name: Group, dtype: int64\n",
      "Materials\n",
      "3    13\n",
      "1     4\n",
      "0     2\n",
      "6     2\n",
      "4     1\n",
      "Name: Group, dtype: int64\n",
      "Real Estate\n",
      "1    9\n",
      "5    6\n",
      "0    5\n",
      "3    5\n",
      "2    1\n",
      "Name: Group, dtype: int64\n",
      "Energy\n",
      "4    13\n",
      "5     1\n",
      "1     1\n",
      "3     1\n",
      "Name: Group, dtype: int64\n"
     ]
    }
   ],
   "source": [
    "# each sector with the groups associated\n",
    "for x in mega[\"GICS Sector\"].unique():\n",
    "    print(x)\n",
    "    print(mega[mega[\"GICS Sector\"]==x][\"Group\"].value_counts())"
   ]
  },
  {
   "cell_type": "code",
   "execution_count": 54,
   "id": "ef6ec87e",
   "metadata": {},
   "outputs": [],
   "source": [
    "mega.to_csv('GroupedSP500.csv')"
   ]
  },
  {
   "cell_type": "code",
   "execution_count": null,
   "id": "4898adf5",
   "metadata": {},
   "outputs": [],
   "source": []
  }
 ],
 "metadata": {
  "kernelspec": {
   "display_name": "Python 3 (ipykernel)",
   "language": "python",
   "name": "python3"
  },
  "language_info": {
   "codemirror_mode": {
    "name": "ipython",
    "version": 3
   },
   "file_extension": ".py",
   "mimetype": "text/x-python",
   "name": "python",
   "nbconvert_exporter": "python",
   "pygments_lexer": "ipython3",
   "version": "3.9.6"
  }
 },
 "nbformat": 4,
 "nbformat_minor": 5
}
